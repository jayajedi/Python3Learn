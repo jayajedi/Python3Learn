{
 "cells": [
  {
   "cell_type": "code",
   "execution_count": 1,
   "metadata": {},
   "outputs": [
    {
     "data": {
      "text/plain": [
       "10.0"
      ]
     },
     "execution_count": 1,
     "metadata": {},
     "output_type": "execute_result"
    }
   ],
   "source": [
    "10/1"
   ]
  },
  {
   "cell_type": "code",
   "execution_count": 2,
   "metadata": {},
   "outputs": [
    {
     "name": "stdout",
     "output_type": "stream",
     "text": [
      "10.0\n"
     ]
    }
   ],
   "source": [
    "print(10/1)"
   ]
  },
  {
   "cell_type": "code",
   "execution_count": 9,
   "metadata": {},
   "outputs": [
    {
     "name": "stdout",
     "output_type": "stream",
     "text": [
      "10.0\n"
     ]
    }
   ],
   "source": [
    "def population_density(population,land_area):\n",
    "    \"\"\"Function code should start with 4 space\"\"\"\n",
    "    population_density=(population/land_area)\n",
    "    return population_density\n",
    "\n",
    "test1 = population_density(10, 1)\n",
    "print(test1)"
   ]
  },
  {
   "cell_type": "code",
   "execution_count": 6,
   "metadata": {},
   "outputs": [
    {
     "name": "stdout",
     "output_type": "stream",
     "text": [
      "10.0\n"
     ]
    }
   ],
   "source": [
    "def population_density(population,land_area):\n",
    "    return population/land_area \n",
    "\n",
    "test1 = population_density(10, 1)\n",
    "print(test1)"
   ]
  },
  {
   "cell_type": "code",
   "execution_count": 10,
   "metadata": {},
   "outputs": [
    {
     "name": "stdout",
     "output_type": "stream",
     "text": [
      "10.0\n"
     ]
    }
   ],
   "source": [
    "def population_density(population,land_area):\n",
    "    \"\"\"This function can be used to calculate density -- This is called docstring\n",
    "    Docstrings are kept b/w 3 double quotes.\"\"\"\n",
    "    return population/land_area \n",
    "\n",
    "test1 = population_density(10, 1)\n",
    "print(test1)"
   ]
  },
  {
   "cell_type": "code",
   "execution_count": 12,
   "metadata": {},
   "outputs": [
    {
     "name": "stdout",
     "output_type": "stream",
     "text": [
      "I wish to register a complaint.\n",
      "None\n"
     ]
    }
   ],
   "source": [
    "## when a function doesn't have a return value, function will return none which means \" No Value\" or \"Nothing\"\n",
    "\n",
    "return_value = print(\"I wish to register a complaint.\")\n",
    "print(return_value)"
   ]
  },
  {
   "cell_type": "code",
   "execution_count": 18,
   "metadata": {},
   "outputs": [
    {
     "name": "stdout",
     "output_type": "stream",
     "text": [
      "1 week(s) and 3 day(s)\n"
     ]
    }
   ],
   "source": [
    "days=10\n",
    "return_value=\"{} week(s) and {} day(s)\".format(int(days/7),int(days%7))\n",
    "print(return_value)\n",
    "                                               "
   ]
  },
  {
   "cell_type": "code",
   "execution_count": 19,
   "metadata": {},
   "outputs": [
    {
     "name": "stdout",
     "output_type": "stream",
     "text": [
      "1 week(s) and 3 day(s)\n"
     ]
    }
   ],
   "source": [
    "def readable_timedelta(days):\n",
    "    return \"{} week(s) and {} day(s)\".format(int(days/7),int(days%7))\n",
    "\n",
    "print(readable_timedelta(10))"
   ]
  },
  {
   "cell_type": "code",
   "execution_count": 24,
   "metadata": {},
   "outputs": [
    {
     "name": "stdout",
     "output_type": "stream",
     "text": [
      "1 week(s) and 3 day(s)\n",
      "None\n"
     ]
    }
   ],
   "source": [
    "def readable_timedelta(days):\n",
    "    return_value= \"{} week(s) and {} day(s)\".format(days//7,days%7)\n",
    "    print(return_value)\n",
    "\n",
    "print(readable_timedelta(10))"
   ]
  },
  {
   "cell_type": "code",
   "execution_count": 21,
   "metadata": {},
   "outputs": [
    {
     "data": {
      "text/plain": [
       "1.4285714285714286"
      ]
     },
     "execution_count": 21,
     "metadata": {},
     "output_type": "execute_result"
    }
   ],
   "source": [
    "10/7"
   ]
  },
  {
   "cell_type": "code",
   "execution_count": 22,
   "metadata": {},
   "outputs": [
    {
     "data": {
      "text/plain": [
       "1"
      ]
     },
     "execution_count": 22,
     "metadata": {},
     "output_type": "execute_result"
    }
   ],
   "source": [
    "10//7"
   ]
  },
  {
   "cell_type": "code",
   "execution_count": 29,
   "metadata": {},
   "outputs": [
    {
     "data": {
      "text/plain": [
       "'3.6.4'"
      ]
     },
     "execution_count": 29,
     "metadata": {},
     "output_type": "execute_result"
    }
   ],
   "source": [
    "import platform\n",
    "platform.python_version()\n"
   ]
  },
  {
   "cell_type": "code",
   "execution_count": 31,
   "metadata": {},
   "outputs": [
    {
     "name": "stdout",
     "output_type": "stream",
     "text": [
      "12.34\n",
      "25\n"
     ]
    }
   ],
   "source": [
    "#First Example - uncomment lines or change values to test the code\n",
    "#phone_balance = 7.62\n",
    "#bank_balance = 104.39\n",
    "phone_balance = 12.34\n",
    "bank_balance = 25\n",
    "if phone_balance < 10:\n",
    "    phone_balance += 10\n",
    "    bank_balance -= 10\n",
    "print(phone_balance)\n",
    "print(bank_balance)"
   ]
  },
  {
   "cell_type": "code",
   "execution_count": 34,
   "metadata": {},
   "outputs": [
    {
     "name": "stdout",
     "output_type": "stream",
     "text": [
      "The number 57 is odd.\n"
     ]
    }
   ],
   "source": [
    "#change the number to experiment!\n",
    "#number = 145346334\n",
    "#number = 5 #3 sir\n",
    "number=57\n",
    "if number % 2 == 0:\n",
    "    print(\"The number \" + str(number) + \" is even.\")\n",
    "else:\n",
    "    print(\"The number \" + str(number) + \" is odd.\")"
   ]
  },
  {
   "cell_type": "code",
   "execution_count": 38,
   "metadata": {},
   "outputs": [
    {
     "name": "stdout",
     "output_type": "stream",
     "text": [
      "Somebody who is 78 years old will pay $1.25 to ride the bus.\n"
     ]
    }
   ],
   "source": [
    "#change the age to experiment with the pricing\n",
    "age = 78\n",
    "\n",
    "#set the age limits for bus fares\n",
    "free_up_to_age = 4\n",
    "child_up_to_age = 18\n",
    "senior_from_age = 65\n",
    "\n",
    "#set bus fares\n",
    "concession_ticket = 1.25\n",
    "adult_ticket = 2.50\n",
    "\n",
    "#ticket price logic\n",
    "if age <= free_up_to_age:\n",
    "    ticket_price = 0\n",
    "elif age <= child_up_to_age:\n",
    "    ticket_price = concession_ticket\n",
    "elif age >= senior_from_age:\n",
    "    ticket_price = concession_ticket\n",
    "else:\n",
    "    ticket_price = adult_ticket\n",
    "message = \"Somebody who is {} years old will pay ${} to ride the bus.\".format(age,ticket_price)\n",
    "print(message)"
   ]
  },
  {
   "cell_type": "code",
   "execution_count": 39,
   "metadata": {},
   "outputs": [
    {
     "name": "stdout",
     "output_type": "stream",
     "text": [
      "Congratulations! You have won a [wafer-thin mint]!\n"
     ]
    }
   ],
   "source": [
    "def which_prize(points):\n",
    "    if points<=50:\n",
    "        print(\"Congratulations! You have won a [wooden rabbit]!\")\n",
    "    elif points<=150:\n",
    "        print(\"Oh dear, no prize this time.\")\n",
    "    elif points<=180:\n",
    "        print(\"Congratulations! You have won a [wafer-thin mint]!\")\n",
    "    else:\n",
    "        print(\"Congratulations! You have won a [penguin]!\")\n",
    "    \n",
    "which_prize(180)"
   ]
  },
  {
   "cell_type": "code",
   "execution_count": 44,
   "metadata": {},
   "outputs": [
    {
     "name": "stdout",
     "output_type": "stream",
     "text": [
      "\"Congratulations! You have won a penguin!\"\n"
     ]
    }
   ],
   "source": [
    "def which_prize(points):\n",
    "    if points<=50:\n",
    "        message='\"Congratulations! You have won a wooden rabbit!\"'\n",
    "    elif points<=150:\n",
    "        message='\"Oh dear, no prize this time.\"'\n",
    "    elif points<=180:\n",
    "        message='\"Congratulations! You have won a wafer-thin mint!\"'\n",
    "    else:\n",
    "        message='\"Congratulations! You have won a penguin!\"'\n",
    "    return message\n",
    "    \n",
    "print(which_prize(194))"
   ]
  },
  {
   "cell_type": "code",
   "execution_count": 52,
   "metadata": {},
   "outputs": [
    {
     "data": {
      "text/plain": [
       "'Oh dear, no prize this time.'"
      ]
     },
     "execution_count": 52,
     "metadata": {},
     "output_type": "execute_result"
    }
   ],
   "source": [
    "def which_prize(points):\n",
    "    prize=None\n",
    "    if points<=50:\n",
    "        prize='wooden rabbit'\n",
    "    elif 151<=points<=180:\n",
    "        prize='wafer-thin mint'\n",
    "    elif points>180:\n",
    "        prize='penguin'\n",
    "        \n",
    "    if prize:\n",
    "        return \"Congratulations! You have won a {}!\".format(prize)\n",
    "    else:\n",
    "        return \"Oh dear, no prize this time.\"\n",
    "    \n",
    "which_prize(149)"
   ]
  },
  {
   "cell_type": "code",
   "execution_count": 49,
   "metadata": {},
   "outputs": [
    {
     "data": {
      "text/plain": [
       "'Congratulations! You have won a nunnmhyfh!'"
      ]
     },
     "execution_count": 49,
     "metadata": {},
     "output_type": "execute_result"
    }
   ],
   "source": [
    "prize='nunnmhyfh'\n",
    "\"Congratulations! You have won a {}!\".format(prize)\n"
   ]
  },
  {
   "cell_type": "code",
   "execution_count": null,
   "metadata": {},
   "outputs": [],
   "source": [
    "def convert_to_numeric(score):\n",
    "    \"\"\"This func converts values to numeric\"\"\"\n",
    "    numeric_value=# convert to numeric\n",
    "    return numeric_value\n",
    "\n",
    "def sum_of_middle_three(score1,score2,score3,score4,score5):\n",
    "    \"\"\"This func provides sum of middle three score values\"\"\"\n",
    "    sum_of_three=# sum of three.\n",
    "    return sum_of three\n",
    "\n",
    "def score_to_string_rating(score):\n",
    "    \"\"\"This func gives us the rating comment\"\"\"\n",
    "    score_rating=# score rating logic.\n",
    "    return score_rating\n"
   ]
  },
  {
   "cell_type": "code",
   "execution_count": 56,
   "metadata": {},
   "outputs": [
    {
     "data": {
      "text/plain": [
       "30.0"
      ]
     },
     "execution_count": 56,
     "metadata": {},
     "output_type": "execute_result"
    }
   ],
   "source": [
    "score=\"30\"\n",
    "float(score)"
   ]
  },
  {
   "cell_type": "code",
   "execution_count": 58,
   "metadata": {},
   "outputs": [
    {
     "data": {
      "text/plain": [
       "30.0"
      ]
     },
     "execution_count": 58,
     "metadata": {},
     "output_type": "execute_result"
    }
   ],
   "source": [
    "def convert_to_numeric(score):\n",
    "    \"\"\"This func converts values to numeric\"\"\"\n",
    "    return float(score)\n",
    "    \n",
    "convert_to_numeric(\"30\")"
   ]
  },
  {
   "cell_type": "code",
   "execution_count": 64,
   "metadata": {},
   "outputs": [
    {
     "data": {
      "text/plain": [
       "6"
      ]
     },
     "execution_count": 64,
     "metadata": {},
     "output_type": "execute_result"
    }
   ],
   "source": [
    "def sum_of_middle_three(score1,score2,score3,score4,score5):\n",
    "    \"\"\"This func provides sum of middle three score values\"\"\"\n",
    "    sum_of_five=score1+score2+score3+score4+score5\n",
    "    low=min(score1,score2,score3,score4,score5)\n",
    "    high=max(score1,score2,score3,score4,score5)\n",
    "    return sum_of_five-(low+high)\n",
    "\n",
    "sum_of_middle_three(0,1,2,3,4)\n",
    "\n",
    "#######OR###################\n",
    "\n",
    "\n",
    "def sum_of_middle_three(score1,score2,score3,score4,score5):\n",
    "    \"\"\"This func provides sum of middle three score values\"\"\"\n",
    "    return (score1+score2+score3+score4+score5)-(max(score1,score2,score3,score4,score5)+min(score1,score2,score3,score4,score5))\n",
    "\n",
    "print(sum_of_middle_three(0,1,2,3,4))"
   ]
  },
  {
   "cell_type": "code",
   "execution_count": null,
   "metadata": {},
   "outputs": [],
   "source": [
    "def score_to_rating_string(score):\n",
    "    \"\"\"This func gives us the rating comment\"\"\"\n",
    "    if 0<=score<1:\n",
    "        return 'Terrible'\n",
    "    elif 1<=score<2:\n",
    "        return 'Bad'\n",
    "    elif 2<=score<3:\n",
    "        return 'OK'\n",
    "    elif 3<=score<4:\n",
    "        return 'Good'\n",
    "    else:\n",
    "        return 'Excellent'\n",
    "        \n",
    "\n",
    "print(score_to_rating_string(5))"
   ]
  },
  {
   "cell_type": "code",
   "execution_count": 65,
   "metadata": {},
   "outputs": [
    {
     "name": "stdout",
     "output_type": "stream",
     "text": [
      "OK\n"
     ]
    }
   ],
   "source": [
    "def convert_to_numeric(score):\n",
    "    \"\"\"This func converts values to numeric\"\"\"\n",
    "    return float(score)\n",
    "\n",
    "def sum_of_middle_three(score1,score2,score3,score4,score5):\n",
    "    \"\"\"This func provides sum of middle three score values\"\"\"\n",
    "    sum_of_five=score1+score2+score3+score4+score5\n",
    "    low=min(score1,score2,score3,score4,score5)\n",
    "    high=max(score1,score2,score3,score4,score5)\n",
    "    return sum_of_five-(low+high)\n",
    "\n",
    "def score_to_rating_string(score):\n",
    "    \"\"\"This func gives us the rating comment\"\"\"\n",
    "    if 0<=score<1:\n",
    "        return 'Terrible'\n",
    "    elif 1<=score<2:\n",
    "        return 'Bad'\n",
    "    elif 2<=score<3:\n",
    "        return 'OK'\n",
    "    elif 3<=score<4:\n",
    "        return 'Good'\n",
    "    else:\n",
    "        return 'Excellent'\n",
    "\n",
    "def scores_to_rating(score1,score2,score3,score4,score5):\n",
    "    \"\"\"This is the main function calling others\"\"\"\n",
    "#### chaging all values to numeric###\n",
    "    score1=float(score1)\n",
    "    score2=float(score2)\n",
    "    score3=float(score3)\n",
    "    score4=float(score4)\n",
    "    score5=float(score5)\n",
    "#### Getting average of middle 3 values####\n",
    "    Avg_of_mid_three=sum_of_middle_three(score1,score2,score3,score4,score5)/3\n",
    "### Getting the score to rating string###\n",
    "    return score_to_rating_string(Avg_of_mid_three)\n",
    "    \n",
    "print(scores_to_rating(1,\"2\",0,4,5))\n"
   ]
  },
  {
   "cell_type": "code",
   "execution_count": null,
   "metadata": {},
   "outputs": [],
   "source": []
  }
 ],
 "metadata": {
  "kernelspec": {
   "display_name": "Python 3",
   "language": "python",
   "name": "python3"
  },
  "language_info": {
   "codemirror_mode": {
    "name": "ipython",
    "version": 3
   },
   "file_extension": ".py",
   "mimetype": "text/x-python",
   "name": "python",
   "nbconvert_exporter": "python",
   "pygments_lexer": "ipython3",
   "version": "3.6.4"
  }
 },
 "nbformat": 4,
 "nbformat_minor": 2
}
