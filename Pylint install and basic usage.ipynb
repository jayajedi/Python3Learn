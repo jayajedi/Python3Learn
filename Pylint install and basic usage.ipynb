{
 "cells": [
  {
   "cell_type": "code",
   "execution_count": 1,
   "metadata": {},
   "outputs": [
    {
     "ename": "SyntaxError",
     "evalue": "invalid syntax (<ipython-input-1-333f56beed7d>, line 16)",
     "output_type": "error",
     "traceback": [
      "\u001b[0;36m  File \u001b[0;32m\"<ipython-input-1-333f56beed7d>\"\u001b[0;36m, line \u001b[0;32m16\u001b[0m\n\u001b[0;31m    pylint filename.py\u001b[0m\n\u001b[0m                  ^\u001b[0m\n\u001b[0;31mSyntaxError\u001b[0m\u001b[0;31m:\u001b[0m invalid syntax\n"
     ]
    }
   ],
   "source": [
    "\"\"\" \n",
    "Learning about Pylint: \n",
    "\n",
    "pylint is a tool for finding bugs and style problems in Python source code. \n",
    "It finds problems that are typically caught by a compiler for less dynamic languages like C and C++. \n",
    "Because of the dynamic nature of Python, some warnings may be incorrect; \n",
    "however, spurious warnings should be fairly infrequent. \n",
    "\n",
    "How to install Pylint :\n",
    "\n",
    "pip install pylint\n",
    "conda install pylint\n",
    "For further info refer to https://docs.pylint.org/en/1.6.0/tutorial.html\n",
    "\n",
    "Usage :\n",
    "\n",
    "\"For results as regular messages\":    pylint samplefile.py\n",
    "\"For result to be displayed as report\":  pylint --reports=y samplefile.py\n",
    "\"To supress C Category errors\":  pylint --disable=C samplefile.py\n",
    "\"To suppress C&W Category error\": pylint --disable=C,W samplefile.py\n",
    "\"To Suppress a code error\": pylint --disable=R0902 samplefile.py\n",
    "\"To get the list of msgs \": pylint --list-msgs\n",
    "\"To get a sample the configuration file of current config\":  pylint --generate-rcfile\n",
    "\n",
    "\n",
    "\"\"\"\n"
   ]
  },
  {
   "cell_type": "code",
   "execution_count": null,
   "metadata": {},
   "outputs": [],
   "source": []
  }
 ],
 "metadata": {
  "kernelspec": {
   "display_name": "Python 3",
   "language": "python",
   "name": "python3"
  },
  "language_info": {
   "codemirror_mode": {
    "name": "ipython",
    "version": 3
   },
   "file_extension": ".py",
   "mimetype": "text/x-python",
   "name": "python",
   "nbconvert_exporter": "python",
   "pygments_lexer": "ipython3",
   "version": "3.6.4"
  }
 },
 "nbformat": 4,
 "nbformat_minor": 2
}
