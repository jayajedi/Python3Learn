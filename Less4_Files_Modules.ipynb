{
 "cells": [
  {
   "cell_type": "code",
   "execution_count": 1,
   "metadata": {},
   "outputs": [
    {
     "name": "stdout",
     "output_type": "stream",
     "text": [
      "(1, 0)\n",
      "(1, 1)\n",
      "(416, 16)\n"
     ]
    }
   ],
   "source": [
    "### working on Tuples\n",
    "\n",
    "def hours2days(hours):\n",
    "    days=hours//24\n",
    "    hours=hours%24\n",
    "    return days,hours\n",
    "\n",
    "print(hours2days(24))\n",
    "print(hours2days(25))\n",
    "print(hours2days(10000))"
   ]
  },
  {
   "cell_type": "code",
   "execution_count": 2,
   "metadata": {},
   "outputs": [
    {
     "name": "stdout",
     "output_type": "stream",
     "text": [
      "* cats\n",
      "* in\n",
      "* space\n",
      "<enumerate object at 0x11230d1b0>\n"
     ]
    }
   ],
   "source": [
    "## working on Default Agruments\n",
    "\n",
    "def print_list(l, numbered=False, bullet_character='-'):\n",
    "    \"\"\"Prints a list on multiple lines, with numbers or bullets\n",
    "    \n",
    "    Arguments:\n",
    "    l: The list to print\n",
    "    numbered: set to True to print a numbered list\n",
    "    bullet_character: The symbol placed before each list element. This is\n",
    "                      ignored if numbered is True.\n",
    "    \"\"\"\n",
    "    for index, element in enumerate(l):\n",
    "        if numbered:\n",
    "            print(\"{}: {}\".format(index+1, element))\n",
    "        else:\n",
    "            print(\"{} {}\".format(bullet_character, element))\n",
    "\n",
    "print_list(l=[\"cats\", \"in\", \"space\"],bullet_character='*')\n",
    "l=[\"cats\", \"in\", \"space\"]\n",
    "print(enumerate(l))"
   ]
  },
  {
   "cell_type": "code",
   "execution_count": 3,
   "metadata": {},
   "outputs": [
    {
     "data": {
      "text/plain": [
       "['wake up', 'check the mail', 'begin orbital transfer']"
      ]
     },
     "execution_count": 3,
     "metadata": {},
     "output_type": "execute_result"
    }
   ],
   "source": [
    "def todo_list(new_task, base_list=['wake up']):\n",
    "    base_list.append(new_task)\n",
    "    return base_list\n",
    "todo_list(\"check the mail\")\n",
    "todo_list(\"begin orbital transfer\")"
   ]
  },
  {
   "cell_type": "code",
   "execution_count": 4,
   "metadata": {},
   "outputs": [
    {
     "ename": "UnboundLocalError",
     "evalue": "local variable 'egg_count' referenced before assignment",
     "output_type": "error",
     "traceback": [
      "\u001b[0;31m---------------------------------------------------------------------------\u001b[0m",
      "\u001b[0;31mUnboundLocalError\u001b[0m                         Traceback (most recent call last)",
      "\u001b[0;32m<ipython-input-4-e9acc5c380e8>\u001b[0m in \u001b[0;36m<module>\u001b[0;34m()\u001b[0m\n\u001b[1;32m      3\u001b[0m     \u001b[0megg_count\u001b[0m \u001b[0;34m+=\u001b[0m \u001b[0;36m12\u001b[0m \u001b[0;31m# purchase a dozen eggs\u001b[0m\u001b[0;34m\u001b[0m\u001b[0m\n\u001b[1;32m      4\u001b[0m \u001b[0;34m\u001b[0m\u001b[0m\n\u001b[0;32m----> 5\u001b[0;31m \u001b[0mbuy_eggs\u001b[0m\u001b[0;34m(\u001b[0m\u001b[0;34m)\u001b[0m\u001b[0;34m\u001b[0m\u001b[0m\n\u001b[0m",
      "\u001b[0;32m<ipython-input-4-e9acc5c380e8>\u001b[0m in \u001b[0;36mbuy_eggs\u001b[0;34m()\u001b[0m\n\u001b[1;32m      1\u001b[0m \u001b[0megg_count\u001b[0m \u001b[0;34m=\u001b[0m \u001b[0;36m0\u001b[0m\u001b[0;34m\u001b[0m\u001b[0m\n\u001b[1;32m      2\u001b[0m \u001b[0;32mdef\u001b[0m \u001b[0mbuy_eggs\u001b[0m\u001b[0;34m(\u001b[0m\u001b[0;34m)\u001b[0m\u001b[0;34m:\u001b[0m\u001b[0;34m\u001b[0m\u001b[0m\n\u001b[0;32m----> 3\u001b[0;31m     \u001b[0megg_count\u001b[0m \u001b[0;34m+=\u001b[0m \u001b[0;36m12\u001b[0m \u001b[0;31m# purchase a dozen eggs\u001b[0m\u001b[0;34m\u001b[0m\u001b[0m\n\u001b[0m\u001b[1;32m      4\u001b[0m \u001b[0;34m\u001b[0m\u001b[0m\n\u001b[1;32m      5\u001b[0m \u001b[0mbuy_eggs\u001b[0m\u001b[0;34m(\u001b[0m\u001b[0;34m)\u001b[0m\u001b[0;34m\u001b[0m\u001b[0m\n",
      "\u001b[0;31mUnboundLocalError\u001b[0m: local variable 'egg_count' referenced before assignment"
     ]
    }
   ],
   "source": [
    "egg_count = 0\n",
    "def buy_eggs():\n",
    "    egg_count += 12 # purchase a dozen eggs\n",
    "\n",
    "buy_eggs()"
   ]
  },
  {
   "cell_type": "code",
   "execution_count": 5,
   "metadata": {},
   "outputs": [
    {
     "name": "stdout",
     "output_type": "stream",
     "text": [
      "<_io.TextIOWrapper name='test.py' mode='r' encoding='UTF-8'>\n",
      "################\n",
      "from countries import country_list\n",
      "#print(country_list)\n",
      "country_count={}\n",
      "for country in country_list:\n",
      "    if country not in country_count:\n",
      "        country_count.update({country:1})\n",
      "    else:\n",
      "        country_count[country]+=1\n",
      "print(country_count)\n",
      "Hello How are you?\n"
     ]
    }
   ],
   "source": [
    "f=open('test.py')\n",
    "f1=f.read()\n",
    "print(f)\n",
    "print('################')\n",
    "print(f1)\n",
    "f.close()"
   ]
  },
  {
   "cell_type": "code",
   "execution_count": 6,
   "metadata": {},
   "outputs": [
    {
     "name": "stdout",
     "output_type": "stream",
     "text": [
      "<_io.TextIOWrapper name='test.py' mode='a' encoding='UTF-8'>\n",
      "<_io.TextIOWrapper name='test.py' mode='a' encoding='UTF-8'>\n",
      "from countries import country_list\n",
      "#print(country_list)\n",
      "country_count={}\n",
      "for country in country_list:\n",
      "    if country not in country_count:\n",
      "        country_count.update({country:1})\n",
      "    else:\n",
      "        country_count[country]+=1\n",
      "print(country_count)\n",
      "Hello How are you?\n"
     ]
    }
   ],
   "source": [
    "f=open('test.py','a')\n",
    "print(f)\n",
    "#f.write(\"Hello How are you?\")\n",
    "print(f)\n",
    "f.close()\n",
    "f=open('test.py')\n",
    "f1=f.read()\n",
    "print(f1)\n",
    "f.close()"
   ]
  },
  {
   "cell_type": "code",
   "execution_count": 8,
   "metadata": {},
   "outputs": [
    {
     "name": "stdout",
     "output_type": "stream",
     "text": [
      "<_io.TextIOWrapper name='test.py' mode='r' encoding='UTF-8'>\n",
      "from countries import country_list\n",
      "#print(country_list)\n",
      "country_count={}\n",
      "for country in country_list:\n",
      "    if country not in country_count:\n",
      "        country_count.update({country:1})\n",
      "    else:\n",
      "        country_count[country]+=1\n",
      "print(country_count)\n",
      "Hello How are you?\n"
     ]
    }
   ],
   "source": [
    "with open('test.py','r') as f:\n",
    "    file_data = f.read()\n",
    "    print(f)\n",
    "    print(file_data)"
   ]
  },
  {
   "cell_type": "code",
   "execution_count": 10,
   "metadata": {},
   "outputs": [
    {
     "name": "stdout",
     "output_type": "stream",
     "text": [
      "from countries import country_list\n",
      "\n",
      "#print(country_list)\n",
      "\n",
      "country_count={}\n",
      "\n"
     ]
    }
   ],
   "source": [
    "with open('test.py','r') as f:\n",
    "    file_data=f.readline()\n",
    "    print(file_data)\n",
    "    print(f.readline())\n",
    "    print(f.readline())"
   ]
  },
  {
   "cell_type": "code",
   "execution_count": 28,
   "metadata": {},
   "outputs": [
    {
     "name": "stdout",
     "output_type": "stream",
     "text": [
      "['from countries import country_list\\n', '#print(country_list)\\n', 'country_count={}\\n', 'for country in country_list:\\n', '    if country not in country_count:\\n', '        country_count.update({country:1})\\n', '    else:\\n', '        country_count[country]+=1\\n', 'print(country_count)\\n', 'Hello How are you?']\n",
      "264\n"
     ]
    }
   ],
   "source": [
    "lines = []\n",
    "with open(\"test.py\") as f:\n",
    "    print(list(f))\n",
    "    print(f.tell())\n",
    "    for line in f:\n",
    "        lines.append(line)\n",
    "        "
   ]
  },
  {
   "cell_type": "code",
   "execution_count": 29,
   "metadata": {},
   "outputs": [
    {
     "name": "stdout",
     "output_type": "stream",
     "text": [
      "[]\n"
     ]
    }
   ],
   "source": [
    "print(lines)"
   ]
  },
  {
   "cell_type": "code",
   "execution_count": 77,
   "metadata": {},
   "outputs": [
    {
     "name": "stdout",
     "output_type": "stream",
     "text": [
      "['Graham Chapman', 'Eric Idle', 'Terry Jones', 'Michael Palin', 'Terry Gilliam', 'John Cleese', 'Carol Cleveland', 'Ian Davidson', 'John Hughman', 'The Fred Tomlinson Singers', 'Connie Booth', 'Bob Raymond', 'Lyn Ashley', 'Rita Davies', 'Stanley Mason', 'David Ballantyne', 'Donna Reading', 'Peter Brett', 'Maureen Flanagan', 'Katya Wyeth', 'Frank Lester', 'Neil Innes', 'Dick Vosburgh', 'Sandra Richards', 'Julia Breck', 'Nicki Howorth', 'Jimmy Hill', 'Barry Cryer', 'Jeannette Wild', 'Marjorie Wilde', 'Marie Anderson', 'Caron Gardner', 'Nosher Powell', 'Carolae Donoghue', 'Vincent Wong', 'Helena Clayton', 'Nigel Jones', 'Roy Gunson', 'Daphne Davey', 'Stenson Falke', 'Alexander Curry', 'Frank Williams', 'Ralph Wood', 'Rosalind Bailey', 'Marion Mould', 'Sheila Sands', 'Richard Baker', 'Douglas Adams', 'Ewa Aulin', 'Reginald Bosanquet', 'Barbara Lindley', 'Roy Brent', 'Jonas Card', 'Tony Christopher', 'Beulah Hughes', 'Peter Kodak', 'Lulu', 'Jay Neill', 'Graham Skidmore', 'Ringo Starr', 'Fred Tomlinson', 'David Hamilton', 'Suzy Mandel', 'Peter Woods']\n"
     ]
    }
   ],
   "source": [
    "cast=[]\n",
    "with open(\"flying_circus_cast.txt\",'rt') as f:\n",
    "    for line in f:\n",
    "        cast.append(line.split(',')[0])\n",
    "    print(cast)"
   ]
  },
  {
   "cell_type": "code",
   "execution_count": 90,
   "metadata": {},
   "outputs": [
    {
     "name": "stdout",
     "output_type": "stream",
     "text": [
      "nothingbookvery\n"
     ]
    }
   ],
   "source": [
    "import random \n",
    "word_file = \"words.txt\"\n",
    "word_list = []\n",
    "\n",
    "with open(word_file,'r') as words:\n",
    "    for line in words:\n",
    "        word = line.strip().lower()\n",
    "        if 3 < len(word) < 8:\n",
    "            word_list.append(word)\n",
    "    #print(word_list)\n",
    "    \n",
    "def generate_password(wlist):\n",
    "    pwd=random.sample(wlist,k=3)\n",
    "    pwdstr=\"\"\n",
    "    for word in pwd:\n",
    "        pwdstr+=word.strip()\n",
    "    print(pwdstr)\n",
    "\n",
    "generate_password(word_list)"
   ]
  },
  {
   "cell_type": "code",
   "execution_count": null,
   "metadata": {},
   "outputs": [],
   "source": []
  }
 ],
 "metadata": {
  "kernelspec": {
   "display_name": "Python 3",
   "language": "python",
   "name": "python3"
  },
  "language_info": {
   "codemirror_mode": {
    "name": "ipython",
    "version": 3
   },
   "file_extension": ".py",
   "mimetype": "text/x-python",
   "name": "python",
   "nbconvert_exporter": "python",
   "pygments_lexer": "ipython3",
   "version": "3.6.4"
  }
 },
 "nbformat": 4,
 "nbformat_minor": 2
}
