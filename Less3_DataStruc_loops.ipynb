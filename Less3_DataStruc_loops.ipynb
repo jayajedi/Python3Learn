{
 "cells": [
  {
   "cell_type": "code",
   "execution_count": 1,
   "metadata": {},
   "outputs": [
    {
     "name": "stdout",
     "output_type": "stream",
     "text": [
      "31\n"
     ]
    }
   ],
   "source": [
    "def how_many_days(month_number):\n",
    "    \"\"\"Returns the number of days in a month.\n",
    "    WARNING: This function doesn't account for leap years!\n",
    "    \"\"\"\n",
    "    days_in_month = [31,28,31,30,31,30,31,31,30,31,30,31]\n",
    "    #todo: return the correct value\n",
    "    return days_in_month[month_number-1]\n",
    "# This test case should print 31, the number of days in the eighth month, August\n",
    "print(how_many_days(1))"
   ]
  },
  {
   "cell_type": "code",
   "execution_count": 8,
   "metadata": {},
   "outputs": [
    {
     "name": "stdout",
     "output_type": "stream",
     "text": [
      "January\n",
      "July\n",
      "['January', 'February', 'March']\n",
      "['April', 'May', 'June']\n",
      "['July', 'August', 'September']\n",
      "['October', 'November', 'December']\n"
     ]
    }
   ],
   "source": [
    "##List represented in a [] ##\n",
    "\n",
    "months = ['January', 'February', 'March', 'April', 'May', 'June', 'July', 'August', 'September', 'October', 'November', 'December']\n",
    "### List members represented as zero indexing\n",
    "print(months[0])\n",
    "### List members represented in -ve numbers\n",
    "print (months[-6])\n",
    "#### Slicing Lists \n",
    "q1=months[:3]\n",
    "print(q1)\n",
    "q2=months[3:6]\n",
    "print(q2)\n",
    "q3=months[6:9]\n",
    "print (q3)\n",
    "q4=months[9:]\n",
    "print(q4)"
   ]
  },
  {
   "cell_type": "code",
   "execution_count": 9,
   "metadata": {},
   "outputs": [
    {
     "name": "stdout",
     "output_type": "stream",
     "text": [
      "['November 13, 2012', 'March 20, 2015', 'March 9, 2016']\n"
     ]
    }
   ],
   "source": [
    "### Using -ve indexing values \n",
    "\n",
    "eclipse_dates = ['June 21, 2001', 'December 4, 2002', 'November 23, 2003',\n",
    "                 'March 29, 2006', 'August 1, 2008', 'July 22, 2009',\n",
    "                 'July 11, 2010', 'November 13, 2012', 'March 20, 2015',\n",
    "                 'March 9, 2016']\n",
    "                 \n",
    "# TODO: Modify this line so it prints the last three elements of the list\n",
    "print(eclipse_dates[-3:])"
   ]
  },
  {
   "cell_type": "code",
   "execution_count": 11,
   "metadata": {},
   "outputs": [
    {
     "name": "stdout",
     "output_type": "stream",
     "text": [
      "['I', 'wish', 'to', 'register', 'a', 'complaint', '!']\n",
      "['Our Majesty', 'wish', 'to', 'register', 'a', 'complaint', '!']\n",
      "['We', 'want', 'to', 'register', 'a', 'complaint', '!']\n"
     ]
    },
    {
     "ename": "TypeError",
     "evalue": "'str' object does not support item assignment",
     "output_type": "error",
     "traceback": [
      "\u001b[0;31m---------------------------------------------------------------------------\u001b[0m",
      "\u001b[0;31mTypeError\u001b[0m                                 Traceback (most recent call last)",
      "\u001b[0;32m<ipython-input-11-691b09baed31>\u001b[0m in \u001b[0;36m<module>\u001b[0;34m()\u001b[0m\n\u001b[1;32m      8\u001b[0m \u001b[0msentence2\u001b[0m\u001b[0;34m[\u001b[0m\u001b[0;36m0\u001b[0m\u001b[0;34m:\u001b[0m\u001b[0;36m2\u001b[0m\u001b[0;34m]\u001b[0m \u001b[0;34m=\u001b[0m \u001b[0;34m[\u001b[0m\u001b[0;34m\"We\"\u001b[0m\u001b[0;34m,\u001b[0m \u001b[0;34m\"want\"\u001b[0m\u001b[0;34m]\u001b[0m\u001b[0;34m\u001b[0m\u001b[0m\n\u001b[1;32m      9\u001b[0m \u001b[0mprint\u001b[0m\u001b[0;34m(\u001b[0m\u001b[0msentence2\u001b[0m\u001b[0;34m)\u001b[0m\u001b[0;34m\u001b[0m\u001b[0m\n\u001b[0;32m---> 10\u001b[0;31m \u001b[0msentence1\u001b[0m\u001b[0;34m[\u001b[0m\u001b[0;36m30\u001b[0m\u001b[0;34m]\u001b[0m\u001b[0;34m=\u001b[0m\u001b[0;34m\"!\"\u001b[0m\u001b[0;34m\u001b[0m\u001b[0m\n\u001b[0m",
      "\u001b[0;31mTypeError\u001b[0m: 'str' object does not support item assignment"
     ]
    }
   ],
   "source": [
    "### MUTABILITY ###\n",
    "\n",
    "sentence1 = \"I wish to register a complaint.\"\n",
    "sentence2 = [\"I\", \"wish\", \"to\", \"register\", \"a\", \"complaint\", \".\"]\n",
    "\n",
    "### List positional values can be changed or assigned values as it is muttable object \n",
    "sentence2[6]=\"!\"\n",
    "print(sentence2)\n",
    "sentence2[0]= \"Our Majesty\"\n",
    "print(sentence2)\n",
    "sentence2[0:2] = [\"We\", \"want\"]\n",
    "print(sentence2)\n",
    "\n",
    "### string positional values can't be assigned a value as it is immutable object.\n",
    "sentence1[30]=\"!\""
   ]
  },
  {
   "cell_type": "code",
   "execution_count": 16,
   "metadata": {},
   "outputs": [
    {
     "name": "stdout",
     "output_type": "stream",
     "text": [
      "Old Woman\n",
      "Old Woman\n",
      "Dennis\n",
      "Old Woman\n"
     ]
    }
   ],
   "source": [
    "name = \"Old Woman\"\n",
    "person = name\n",
    "print(name)\n",
    "print(person)\n",
    "name = \"Dennis\"\n",
    "print(name)\n",
    "print(person)"
   ]
  },
  {
   "cell_type": "code",
   "execution_count": 15,
   "metadata": {},
   "outputs": [
    {
     "name": "stdout",
     "output_type": "stream",
     "text": [
      "['Spam', 'Spam', 'Spam', 'Spam', 'Spam', 'Spam', 'baked beans', 'Spam', 'Spam', 'Spam', 'Spam']\n",
      "['Spam', 'Spam', 'Spam', 'Spam', 'Spam', 'Spam', 'baked beans', 'Spam', 'Spam', 'Spam', 'Spam']\n",
      "['Spam', 'Spam', 'Spam', 'Spam', 'Spam', 'Spam', 'Spam', 'Spam', 'Spam', 'Spam', 'Spam']\n",
      "['Spam', 'Spam', 'Spam', 'Spam', 'Spam', 'Spam', 'Spam', 'Spam', 'Spam', 'Spam', 'Spam']\n"
     ]
    }
   ],
   "source": [
    "dish = [\"Spam\", \"Spam\", \"Spam\", \"Spam\", \"Spam\", \"Spam\", \"baked beans\", \"Spam\", \"Spam\", \"Spam\", \"Spam\"]\n",
    "mr_buns_order = dish\n",
    "print(dish)\n",
    "print(mr_buns_order)\n",
    "dish[6] = \"Spam\"\n",
    "print(dish)\n",
    "print(mr_buns_order)"
   ]
  },
  {
   "cell_type": "code",
   "execution_count": 38,
   "metadata": {},
   "outputs": [
    {
     "name": "stdout",
     "output_type": "stream",
     "text": [
      "11\n",
      "tomatoes\n",
      "Spam\n",
      "['Spam', 'Spam', 'Spam', 'Spam', 'Spam', 'Spam', 'Spam', 'Zucchini', 'baked beans', 'spam', 'tomatoes']\n",
      "['tomatoes', 'spam', 'baked beans', 'Zucchini', 'Spam', 'Spam', 'Spam', 'Spam', 'Spam', 'Spam', 'Spam']\n"
     ]
    }
   ],
   "source": [
    "## small letters are considered higher while sorting than caps letters\n",
    "dish = [\"Spam\", \"tomatoes\", \"Zucchini\", \"Spam\", \"Spam\", \"spam\", \"baked beans\", \"Spam\", \"Spam\", \"Spam\", \"Spam\"]\n",
    "print(len(dish))\n",
    "print(max(dish))\n",
    "print(min(dish))\n",
    "print(sorted(dish))\n",
    "print(sorted(dish,reverse=True))"
   ]
  },
  {
   "cell_type": "code",
   "execution_count": 44,
   "metadata": {},
   "outputs": [
    {
     "name": "stdout",
     "output_type": "stream",
     "text": [
      "García-O'Kelly-Davis\n",
      "GarcíaO'Kelly-Davis\n"
     ]
    }
   ],
   "source": [
    "## joining lists  --- only on strings \n",
    "names = [\"García\", \"O'Kelly\", \"Davis\"]\n",
    "print(\"-\".join(names))\n",
    "\n",
    "names = [\"García\" \"O'Kelly\", \"Davis\"]\n",
    "print(\"-\".join(names))"
   ]
  },
  {
   "cell_type": "code",
   "execution_count": 46,
   "metadata": {},
   "outputs": [
    {
     "ename": "TypeError",
     "evalue": "sequence item 1: expected str instance, float found",
     "output_type": "error",
     "traceback": [
      "\u001b[0;31m---------------------------------------------------------------------------\u001b[0m",
      "\u001b[0;31mTypeError\u001b[0m                                 Traceback (most recent call last)",
      "\u001b[0;32m<ipython-input-46-053bab58b705>\u001b[0m in \u001b[0;36m<module>\u001b[0;34m()\u001b[0m\n\u001b[1;32m      2\u001b[0m \u001b[0;34m\u001b[0m\u001b[0m\n\u001b[1;32m      3\u001b[0m \u001b[0mstuff\u001b[0m \u001b[0;34m=\u001b[0m \u001b[0;34m[\u001b[0m\u001b[0;34m\"thing\"\u001b[0m\u001b[0;34m,\u001b[0m \u001b[0;36m42.0\u001b[0m\u001b[0;34m,\u001b[0m \u001b[0;34m\"nope\"\u001b[0m\u001b[0;34m]\u001b[0m\u001b[0;34m\u001b[0m\u001b[0m\n\u001b[0;32m----> 4\u001b[0;31m \u001b[0mprint\u001b[0m\u001b[0;34m(\u001b[0m\u001b[0;34m\" and \"\u001b[0m\u001b[0;34m.\u001b[0m\u001b[0mjoin\u001b[0m\u001b[0;34m(\u001b[0m\u001b[0mstuff\u001b[0m\u001b[0;34m)\u001b[0m\u001b[0;34m)\u001b[0m\u001b[0;34m\u001b[0m\u001b[0m\n\u001b[0m",
      "\u001b[0;31mTypeError\u001b[0m: sequence item 1: expected str instance, float found"
     ]
    }
   ],
   "source": [
    "## joining lists  --- only on strings not on integers\\float for example\n",
    "\n",
    "stuff = [\"thing\", 42.0, \"nope\"]\n",
    "print(\" and \".join(stuff))"
   ]
  },
  {
   "cell_type": "code",
   "execution_count": 62,
   "metadata": {},
   "outputs": [
    {
     "name": "stdout",
     "output_type": "stream",
     "text": [
      "['Burmese Python', 'African Rock Python', 'Ball Python', 'Reticulated Python', 'Angolan Python']\n",
      "['Burmese Python', 'African Rock Python', 'Ball Python', 'Reticulated Python', 'Angolan Python', 'Blood Python']\n"
     ]
    },
    {
     "ename": "TypeError",
     "evalue": "append() takes exactly one argument (2 given)",
     "output_type": "error",
     "traceback": [
      "\u001b[0;31m---------------------------------------------------------------------------\u001b[0m",
      "\u001b[0;31mTypeError\u001b[0m                                 Traceback (most recent call last)",
      "\u001b[0;32m<ipython-input-62-d8eeeee740b6>\u001b[0m in \u001b[0;36m<module>\u001b[0;34m()\u001b[0m\n\u001b[1;32m      7\u001b[0m \u001b[0mprint\u001b[0m\u001b[0;34m(\u001b[0m\u001b[0mpython_varieties\u001b[0m\u001b[0;34m)\u001b[0m\u001b[0;34m\u001b[0m\u001b[0m\n\u001b[1;32m      8\u001b[0m \u001b[0;34m\u001b[0m\u001b[0m\n\u001b[0;32m----> 9\u001b[0;31m \u001b[0mpython_varieties\u001b[0m\u001b[0;34m.\u001b[0m\u001b[0mappend\u001b[0m\u001b[0;34m(\u001b[0m\u001b[0;34m'Blood Python'\u001b[0m\u001b[0;34m,\u001b[0m\u001b[0;34m'NewStyle-Python'\u001b[0m\u001b[0;34m)\u001b[0m\u001b[0;34m\u001b[0m\u001b[0m\n\u001b[0m\u001b[1;32m     10\u001b[0m \u001b[0mprint\u001b[0m\u001b[0;34m(\u001b[0m\u001b[0mpython_varieties\u001b[0m\u001b[0;34m)\u001b[0m\u001b[0;34m\u001b[0m\u001b[0m\n",
      "\u001b[0;31mTypeError\u001b[0m: append() takes exactly one argument (2 given)"
     ]
    }
   ],
   "source": [
    "## Append add content to end of list\n",
    "\n",
    "python_varieties=['Burmese Python', 'African Rock Python', 'Ball Python', 'Reticulated Python', 'Angolan Python']\n",
    "print(python_varieties)\n",
    "\n",
    "python_varieties.append('Blood Python')\n",
    "print(python_varieties)\n",
    "\n",
    "python_varieties.append('Blood Python','NewStyle-Python')\n",
    "print(python_varieties)"
   ]
  },
  {
   "cell_type": "code",
   "execution_count": 56,
   "metadata": {},
   "outputs": [
    {
     "name": "stdout",
     "output_type": "stream",
     "text": [
      "[100, 40, 25]\n"
     ]
    }
   ],
   "source": [
    "#### if the list has less than the expected results it won't error out.\n",
    "\n",
    "def top_three(input_list):\n",
    "    return sorted(input_list,reverse=True)[:3]\n",
    "\n",
    "print(top_three([1,2,7,9,100,25,40,5]))"
   ]
  },
  {
   "cell_type": "code",
   "execution_count": 61,
   "metadata": {},
   "outputs": [
    {
     "name": "stdout",
     "output_type": "stream",
     "text": [
      "expected result: 2, actual result: 2\n",
      "expected result: 2.5, actual result: 2.5\n",
      "expected result: 65, actual result: 65\n",
      "expected result: 71, actual result: 71.0\n"
     ]
    }
   ],
   "source": [
    "def median(numbers):\n",
    "    numbers.sort() #The sort method sorts a list directly, rather than returning a new sorted list\n",
    "    middle_index=int(len(numbers)/2)\n",
    "    \n",
    "    if len(numbers)%2:\n",
    "        return numbers[middle_index]\n",
    "    else:  \n",
    "        return (numbers[middle_index-1]+numbers[middle_index])/2\n",
    "        \n",
    "test1 = median([1,2,3])\n",
    "print(\"expected result: 2, actual result: {}\".format(test1))\n",
    "\n",
    "test2 = median([1,2,3,4])\n",
    "print(\"expected result: 2.5, actual result: {}\".format(test2))\n",
    "\n",
    "test3 = median([53, 12, 65, 7, 420, 317, 88])\n",
    "print(\"expected result: 65, actual result: {}\".format(test3))\n",
    "\n",
    "test4= median([77, 53, 12, 65, 7, 420, 317, 88])\n",
    "print(\"expected result: 71, actual result: {}\".format(test4))"
   ]
  },
  {
   "cell_type": "code",
   "execution_count": 63,
   "metadata": {},
   "outputs": [
    {
     "name": "stdout",
     "output_type": "stream",
     "text": [
      "expected result: 6, actual result: 6\n",
      "expected result: 0, actual result: 0\n"
     ]
    }
   ],
   "source": [
    "def list_sum(input_list):\n",
    "    sum = 0\n",
    "    # todo: Write a for loop that adds the elements\n",
    "    # of input_list to the sum variable\n",
    "    for num in input_list:\n",
    "        sum+=num\n",
    "    return sum\n",
    "\n",
    "\n",
    "\n",
    "#These test cases check the list_sum works correctly\n",
    "test1 = list_sum([1, 2, 3])\n",
    "print(\"expected result: 6, actual result: {}\".format(test1))\n",
    "\n",
    "test2 = list_sum([-1, 0, 1])\n",
    "print(\"expected result: 0, actual result: {}\".format(test2))"
   ]
  },
  {
   "cell_type": "code",
   "execution_count": 64,
   "metadata": {},
   "outputs": [
    {
     "name": "stdout",
     "output_type": "stream",
     "text": [
      "Expected result: 2, Actual result: 2\n"
     ]
    }
   ],
   "source": [
    "def tag_count(list):\n",
    "    count=0\n",
    "    for value in list:\n",
    "        if value[0]==\"<\":\n",
    "         count+=1\n",
    "    return count\n",
    "\n",
    "# Test for the tag_count function:\n",
    "list1 = ['<greeting>', 'Hello World!', '</greeting>']\n",
    "count = tag_count(list1)\n",
    "print(\"Expected result: 2, Actual result: {}\".format(count))"
   ]
  },
  {
   "cell_type": "code",
   "execution_count": 1,
   "metadata": {},
   "outputs": [
    {
     "name": "stdout",
     "output_type": "stream",
     "text": [
      "['charlotte hippopotamus turner', 'oliver st. john-mollusc', 'nigel incubator-jones', 'philip diplodocus mallory']\n",
      "['Charlotte Hippopotamus Turner']\n",
      "['Charlotte Hippopotamus Turner', 'Oliver St. John-Mollusc']\n",
      "['Charlotte Hippopotamus Turner', 'Oliver St. John-Mollusc', 'Nigel Incubator-Jones']\n",
      "['Charlotte Hippopotamus Turner', 'Oliver St. John-Mollusc', 'Nigel Incubator-Jones', 'Philip Diplodocus Mallory']\n",
      "['charlotte hippopotamus turner', 'oliver st. john-mollusc', 'nigel incubator-jones', 'philip diplodocus mallory']\n",
      "['Charlotte Hippopotamus Turner', 'Oliver St. John-Mollusc', 'Nigel Incubator-Jones', 'Philip Diplodocus Mallory']\n"
     ]
    }
   ],
   "source": [
    "names = ['charlotte hippopotamus turner', 'oliver st. john-mollusc',\n",
    "         'nigel incubator-jones', 'philip diplodocus mallory']\n",
    "print(names)\n",
    "caps_names=[]\n",
    "\n",
    "for name in names:\n",
    "    caps_names.append(name.title())\n",
    "    print(caps_names)\n",
    "    \n",
    "print(names)\n",
    "print(caps_names)"
   ]
  },
  {
   "cell_type": "code",
   "execution_count": 2,
   "metadata": {},
   "outputs": [
    {
     "name": "stdout",
     "output_type": "stream",
     "text": [
      "['charlotte hippopotamus turner', 'oliver st. john-mollusc', 'nigel incubator-jones', 'philip diplodocus mallory']\n",
      "['Charlotte Hippopotamus Turner', 'Oliver St. John-Mollusc', 'Nigel Incubator-Jones', 'Philip Diplodocus Mallory']\n"
     ]
    }
   ],
   "source": [
    "names = ['charlotte hippopotamus turner', 'oliver st. john-mollusc',\n",
    "         'nigel incubator-jones', 'philip diplodocus mallory']\n",
    "print(names)\n",
    "\n",
    "for index in range(len(names)):\n",
    "    names[index]=names[index].title()\n",
    "\n",
    "print(names)"
   ]
  },
  {
   "cell_type": "code",
   "execution_count": 3,
   "metadata": {},
   "outputs": [
    {
     "name": "stdout",
     "output_type": "stream",
     "text": [
      "0\n",
      "1\n",
      "2\n",
      "3\n"
     ]
    }
   ],
   "source": [
    "for number in range(4):\n",
    "    print(number)"
   ]
  },
  {
   "cell_type": "code",
   "execution_count": 10,
   "metadata": {},
   "outputs": [
    {
     "name": "stdout",
     "output_type": "stream",
     "text": [
      "['<ul>', '<li>first string</li>', '<li>second string</li>']\n",
      "['<ul>', '<li>first string</li>', '<li>second string</li>', '</ul>']\n"
     ]
    }
   ],
   "source": [
    "def html_list(list):\n",
    "    html=['<ul>']\n",
    "    for value in list:\n",
    "        value=\"<li>{}</li>\".format(value)\n",
    "        html.append(value)\n",
    "    print(html)\n",
    "    html.append('</ul>')\n",
    "    return html\n",
    "    \n",
    "print(html_list(['first string', 'second string']))\n",
    "    "
   ]
  },
  {
   "cell_type": "code",
   "execution_count": 13,
   "metadata": {},
   "outputs": [
    {
     "name": "stdout",
     "output_type": "stream",
     "text": [
      "Test 1:\n",
      "*****\n",
      "*   *\n",
      "*   *\n",
      "*   *\n",
      "*****\n",
      "Test 2:\n",
      "**\n",
      "**\n",
      "**\n"
     ]
    }
   ],
   "source": [
    "def starbox(width, height):\n",
    "    \"\"\"print a box made up of asterisks.\n",
    "\n",
    "    width: width of box in characters, must be at least 2\n",
    "    height: height of box in lines, must be at least 2\n",
    "    \"\"\"\n",
    "    print(\"*\" * width) #print top edge of box\n",
    "   \n",
    "    # print sides of box\n",
    "    # todo: print this line height-2 times, instead of three times\n",
    "    for num in range(height-2):\n",
    "        print(\"*\" + \" \" * (width-2) + \"*\")\n",
    "    print(\"*\" * width) #print bottom edge of box\n",
    "\n",
    "# Test Cases\n",
    "print(\"Test 1:\")\n",
    "starbox(5, 5) # this prints correctly\n",
    "\n",
    "print(\"Test 2:\")\n",
    "starbox(2, 3)  # this currently prints two lines too tall - fix it!"
   ]
  },
  {
   "cell_type": "code",
   "execution_count": 18,
   "metadata": {},
   "outputs": [
    {
     "name": "stdout",
     "output_type": "stream",
     "text": [
      "6\n"
     ]
    }
   ],
   "source": [
    "def nearest_square(number):\n",
    "    i=1\n",
    "    while i**2<=number:\n",
    "        i+=1\n",
    "    return i-1\n",
    "\n",
    "print(nearest_square(40))"
   ]
  },
  {
   "cell_type": "code",
   "execution_count": 22,
   "metadata": {},
   "outputs": [
    {
     "name": "stdout",
     "output_type": "stream",
     "text": [
      "abc\n",
      "abc cde\n",
      "abc c\n"
     ]
    }
   ],
   "source": [
    "news=\"abc\"\n",
    "print(news)\n",
    "news+=' '+\"cde\"\n",
    "print(news)\n",
    "print(news[:5])"
   ]
  },
  {
   "cell_type": "code",
   "execution_count": 40,
   "metadata": {},
   "outputs": [
    {
     "name": "stdout",
     "output_type": "stream",
     "text": [
      "140\n",
      " Local Bear Eaten by Man Legislature Announces New Laws Peasant Discovers Violence Inherent in System Cat Rescues Fireman Stuck in Tree Brav\n"
     ]
    }
   ],
   "source": [
    "## Using break \n",
    "def news_ticker(headlines):\n",
    "    news=\"\"\n",
    "    for line in headlines:\n",
    "        if len(news)==140:\n",
    "            break\n",
    "        elif len(news)+len(line)>140:\n",
    "            diff=140-len(news)\n",
    "            news+=' '+line[:diff-1]\n",
    "        else:\n",
    "            news+=' '+line\n",
    "    return news   \n",
    "            \n",
    "headlines = [\"Local Bear Eaten by Man\",\n",
    "             \"Legislature Announces New Laws\",\n",
    "             \"Peasant Discovers Violence Inherent in System\",\n",
    "             \"Cat Rescues Fireman Stuck in Tree\",\n",
    "             \"Brave Knight Runs Away\",\n",
    "             \"Papperbok Review: Totally Triffic\"]\n",
    "answer=news_ticker(headlines)\n",
    "print(len(answer))\n",
    "print(answer)"
   ]
  },
  {
   "cell_type": "code",
   "execution_count": 50,
   "metadata": {},
   "outputs": [
    {
     "name": "stdout",
     "output_type": "stream",
     "text": [
      "Unfortunately, you did not pass. You scored 5 out of 8.\n"
     ]
    }
   ],
   "source": [
    "## Re-Factoring code \n",
    "\n",
    "def check_answers(my_answers,keysheet):\n",
    "    \"\"\"\n",
    "    Checks the five answers provided to a multiple choice quiz and returns the results.\n",
    "    \"\"\"\n",
    "    count_correct=0\n",
    "    for i in range(len(keysheet)):\n",
    "        if my_answers[i]==keysheet[i]:\n",
    "            count_correct+=1\n",
    "    count_incorrect=len(keysheet)-count_correct\n",
    "    \n",
    "    if count_correct/len(keysheet) > 0.7:\n",
    "        return \"Congratulations, you passed the test! You scored {} out {}.\".format(count_correct,len(keysheet))\n",
    "    else:\n",
    "        return \"Unfortunately, you did not pass. You scored {} out of {}.\".format(count_correct,len(keysheet))\n",
    "\n",
    "my_answers=[1,2,3,4,5,6,7,0]\n",
    "keysheet=[1,0,3,0,5,6,7,8]\n",
    "\n",
    "print(check_answers(my_answers,keysheet))\n",
    "    \n",
    "    \n",
    "    "
   ]
  },
  {
   "cell_type": "code",
   "execution_count": 53,
   "metadata": {},
   "outputs": [
    {
     "name": "stdout",
     "output_type": "stream",
     "text": [
      "set()\n",
      "{1}\n"
     ]
    }
   ],
   "source": [
    "### Learning sets\n",
    "squares = set()\n",
    "print(squares)\n",
    "squares.add(1)\n",
    "print(squares)"
   ]
  },
  {
   "cell_type": "code",
   "execution_count": 55,
   "metadata": {},
   "outputs": [
    {
     "name": "stdout",
     "output_type": "stream",
     "text": [
      "[1, 0, 5, 7, 8, 3, 4, 2]\n",
      "{0, 1, 2, 3, 4, 5, 7, 8}\n"
     ]
    }
   ],
   "source": [
    "## Learning Sets\n",
    "def remove_duplicates(list):\n",
    "    dedup=[]\n",
    "    for value in list:\n",
    "        if value not in dedup:\n",
    "            dedup.append(value)\n",
    "    return dedup\n",
    "        \n",
    "list=[1,0,1,5,7,8,1,0,3,4,2,1,0]\n",
    "print(remove_duplicates(list))\n",
    "\n",
    "firset=set(list)\n",
    "print(firset)"
   ]
  },
  {
   "cell_type": "code",
   "execution_count": 56,
   "metadata": {},
   "outputs": [
    {
     "name": "stdout",
     "output_type": "stream",
     "text": [
      "{256, 1, 1024, 4, 900, 1156, 9, 16, 144, 400, 529, 784, 1296, 1681, 1936, 25, 289, 36, 676, 1444, 169, 49, 441, 1849, 64, 576, 961, 1089, 196, 324, 1600, 841, 1225, 81, 729, 1369, 225, 100, 484, 1764, 361, 625, 1521, 121}\n"
     ]
    }
   ],
   "source": [
    "def squares(limit):\n",
    "    squares= set()\n",
    "    num=1\n",
    "    while num **2 < limit:\n",
    "        squares.add(num **2)\n",
    "        num+=1\n",
    "    return squares\n",
    "    \n",
    "print(squares(2000))"
   ]
  },
  {
   "cell_type": "code",
   "execution_count": 54,
   "metadata": {},
   "outputs": [
    {
     "name": "stdout",
     "output_type": "stream",
     "text": [
      "{'Shanghai': 17.8, 'Istanbul': 13.3, 'Karachi': 13.0, 'Mumbai': 12.5}\n"
     ]
    },
    {
     "ename": "KeyError",
     "evalue": "'India'",
     "output_type": "error",
     "traceback": [
      "\u001b[0;31m---------------------------------------------------------------------------\u001b[0m",
      "\u001b[0;31mKeyError\u001b[0m                                  Traceback (most recent call last)",
      "\u001b[0;32m<ipython-input-54-156fcb0e563e>\u001b[0m in \u001b[0;36m<module>\u001b[0;34m()\u001b[0m\n\u001b[1;32m      1\u001b[0m \u001b[0mpopulation\u001b[0m \u001b[0;34m=\u001b[0m \u001b[0;34m{\u001b[0m\u001b[0;34m'Shanghai'\u001b[0m\u001b[0;34m:\u001b[0m \u001b[0;36m17.8\u001b[0m\u001b[0;34m,\u001b[0m \u001b[0;34m'Istanbul'\u001b[0m\u001b[0;34m:\u001b[0m \u001b[0;36m13.3\u001b[0m\u001b[0;34m,\u001b[0m \u001b[0;34m'Karachi'\u001b[0m\u001b[0;34m:\u001b[0m \u001b[0;36m13.0\u001b[0m\u001b[0;34m,\u001b[0m \u001b[0;34m'Mumbai'\u001b[0m\u001b[0;34m:\u001b[0m \u001b[0;36m12.5\u001b[0m\u001b[0;34m}\u001b[0m\u001b[0;34m\u001b[0m\u001b[0m\n\u001b[1;32m      2\u001b[0m \u001b[0mprint\u001b[0m\u001b[0;34m(\u001b[0m\u001b[0mpopulation\u001b[0m\u001b[0;34m)\u001b[0m\u001b[0;34m\u001b[0m\u001b[0m\n\u001b[0;32m----> 3\u001b[0;31m \u001b[0mprint\u001b[0m\u001b[0;34m(\u001b[0m\u001b[0mpopulation\u001b[0m\u001b[0;34m[\u001b[0m\u001b[0;34m'India'\u001b[0m\u001b[0;34m]\u001b[0m\u001b[0;34m)\u001b[0m\u001b[0;34m\u001b[0m\u001b[0m\n\u001b[0m",
      "\u001b[0;31mKeyError\u001b[0m: 'India'"
     ]
    }
   ],
   "source": [
    "## Using Dictionaries\n",
    "population = {'Shanghai': 17.8, 'Istanbul': 13.3, 'Karachi': 13.0, 'Mumbai': 12.5}\n",
    "print(population)\n",
    "print(population['India'])"
   ]
  },
  {
   "cell_type": "code",
   "execution_count": 61,
   "metadata": {},
   "outputs": [
    {
     "name": "stdout",
     "output_type": "stream",
     "text": [
      "There's no such country!\n"
     ]
    }
   ],
   "source": [
    "population = {'Shanghai': 17.8, 'Istanbul': 13.3, 'Karachi': 13.0, 'Mumbai': 12.5}\n",
    "if 'India' in population:\n",
    "    print(\"That's a real country!\")\n",
    "else:\n",
    "    print(\"There's no such country!\")\n"
   ]
  },
  {
   "cell_type": "code",
   "execution_count": 65,
   "metadata": {},
   "outputs": [
    {
     "ename": "KeyError",
     "evalue": "'India'",
     "output_type": "error",
     "traceback": [
      "\u001b[0;31m---------------------------------------------------------------------------\u001b[0m",
      "\u001b[0;31mKeyError\u001b[0m                                  Traceback (most recent call last)",
      "\u001b[0;32m<ipython-input-65-b3d5ad6872ab>\u001b[0m in \u001b[0;36m<module>\u001b[0;34m()\u001b[0m\n\u001b[1;32m      1\u001b[0m \u001b[0mpopulation\u001b[0m \u001b[0;34m=\u001b[0m \u001b[0;34m{\u001b[0m\u001b[0;34m'Shanghai'\u001b[0m\u001b[0;34m:\u001b[0m \u001b[0;36m17.8\u001b[0m\u001b[0;34m,\u001b[0m \u001b[0;34m'Istanbul'\u001b[0m\u001b[0;34m:\u001b[0m \u001b[0;36m13.3\u001b[0m\u001b[0;34m,\u001b[0m \u001b[0;34m'Karachi'\u001b[0m\u001b[0;34m:\u001b[0m \u001b[0;36m13.0\u001b[0m\u001b[0;34m,\u001b[0m \u001b[0;34m'Mumbai'\u001b[0m\u001b[0;34m:\u001b[0m \u001b[0;36m12.5\u001b[0m\u001b[0;34m}\u001b[0m\u001b[0;34m\u001b[0m\u001b[0m\n\u001b[1;32m      2\u001b[0m \u001b[0mpopulation\u001b[0m\u001b[0;34m.\u001b[0m\u001b[0mget\u001b[0m\u001b[0;34m(\u001b[0m\u001b[0;34m'India'\u001b[0m\u001b[0;34m)\u001b[0m\u001b[0;34m\u001b[0m\u001b[0m\n\u001b[0;32m----> 3\u001b[0;31m \u001b[0mpopulation\u001b[0m\u001b[0;34m[\u001b[0m\u001b[0;34m'India'\u001b[0m\u001b[0;34m]\u001b[0m\u001b[0;34m\u001b[0m\u001b[0m\n\u001b[0m\u001b[1;32m      4\u001b[0m \u001b[0mpopulation\u001b[0m\u001b[0;34m.\u001b[0m\u001b[0mget\u001b[0m\u001b[0;34m(\u001b[0m\u001b[0;34m'India'\u001b[0m\u001b[0;34m,\u001b[0m\u001b[0;34m'No value but it is a real country'\u001b[0m\u001b[0;34m)\u001b[0m\u001b[0;34m\u001b[0m\u001b[0m\n",
      "\u001b[0;31mKeyError\u001b[0m: 'India'"
     ]
    }
   ],
   "source": [
    "population = {'Shanghai': 17.8, 'Istanbul': 13.3, 'Karachi': 13.0, 'Mumbai': 12.5}\n",
    "population.get('India')\n",
    "population['India']\n",
    "population.get('India','No value but it is a real country')"
   ]
  },
  {
   "cell_type": "code",
   "execution_count": 66,
   "metadata": {},
   "outputs": [
    {
     "data": {
      "text/plain": [
       "'No value but it is a real country'"
      ]
     },
     "execution_count": 66,
     "metadata": {},
     "output_type": "execute_result"
    }
   ],
   "source": [
    "population = {'Shanghai': 17.8, 'Istanbul': 13.3, 'Karachi': 13.0, 'Mumbai': 12.5}\n",
    "population.get('India')\n",
    "population.get('India','No value but it is a real country')"
   ]
  },
  {
   "cell_type": "code",
   "execution_count": 69,
   "metadata": {},
   "outputs": [
    {
     "name": "stdout",
     "output_type": "stream",
     "text": [
      "{'Shanghai': 17.8, 'Istanbul': 13.3, 'Karachi': 13.0, 'Mumbai': 12.5, 'India': 15.7}\n",
      "{'Shanghai': 17.8, 'Istanbul': 13.3, 'Karachi': 13.0, 'Mumbai': 12.5, 'India': 16.7}\n",
      "{'Shanghai': 17.8, 'Istanbul': 13.3, 'Karachi': 13.0, 'Mumbai': 12.5, 'India': 16.7, 'Africa': 20.1}\n"
     ]
    }
   ],
   "source": [
    "population = {'Shanghai': 17.8, 'Istanbul': 13.3, 'Karachi': 13.0, 'Mumbai': 12.5}\n",
    "population.update({'India':15.7})\n",
    "print(population)\n",
    "if 'India' in population:\n",
    "    population['India']+=1\n",
    "print(population)\n",
    "population['Africa']=20.1\n",
    "print(population)"
   ]
  },
  {
   "cell_type": "code",
   "execution_count": 82,
   "metadata": {},
   "outputs": [
    {
     "name": "stdout",
     "output_type": "stream",
     "text": [
      "[0, 1, 1, 3, 5]\n",
      "2\n",
      "[0, 1, 1, 3, 5]\n"
     ]
    }
   ],
   "source": [
    "Blist=[[0,1,1,3,5],[1,2,3],[1,3],[2,4,6,7],[3,5,7]]\n",
    "print(Blist[0])\n",
    "print(Blist[1][1])\n",
    "Blen= lambda k: len(k)\n",
    "maxval=max(Blist, key=Blen)\n",
    "print(maxval)"
   ]
  },
  {
   "cell_type": "code",
   "execution_count": 86,
   "metadata": {},
   "outputs": [
    {
     "name": "stdout",
     "output_type": "stream",
     "text": [
      "1964\n",
      "[1964, 1965]\n",
      "1964\n",
      "1964\n",
      "[1964]\n",
      "1964\n",
      "1974\n",
      "[1974]\n",
      "1974\n"
     ]
    }
   ],
   "source": [
    "def most_prolific(Dict):\n",
    "    year_dict={}\n",
    "    for album in Dict:\n",
    "        year=Dict[album]\n",
    "        if year not in year_dict:\n",
    "            year_dict.update({year:1})\n",
    "        else:\n",
    "            year_dict[year]+=1\n",
    "    max_value=max(year_dict.values())\n",
    "    #print(max(year_dict))\n",
    "    year_maxlist=[key for key in year_dict.keys() if year_dict[key]==max_value]\n",
    "    year_max=max(year_dict.keys(), key=(lambda k: year_dict[k]))\n",
    "    #print(year_dict.keys())\n",
    "    print(year_max)\n",
    "    print(year_maxlist)\n",
    "    return year_max\n",
    "\n",
    "Beatles= {\"Please Please Me\": 1963, \"With the Beatles\": 1963, \n",
    "    \"A Hard Day's Night\": 1964, \"Beatles for Sale\": 1964, \"Twist and Shout\": 1964,\n",
    "    \"Help\": 1965, \"Rubber Soul\": 1965, \"Revolver\": 1966,\n",
    "    \"Sgt. Pepper's Lonely Hearts Club Band\": 1967,\n",
    "    \"Magical Mystery Tour\": 1967, \"The Beatles\": 1968,\n",
    "    \"Yellow Submarine\": 1969 ,'Abbey Road': 1969,\n",
    "    \"Let It Be\": 1970, \"my added album to test\": 1965}\n",
    "\n",
    "test2={'Rubber Soul': 1965, 'Magical Mystery Tour': 1967, \n",
    "       \"Sgt. Pepper's Lonely Hearts Club Band\": 1967, 'Revolver': 1966, 'The Beatles': 1968, \n",
    "       'With the Beatles': 1963, 'Beatles for Sale': 1964, 'Yellow Submarine': 1969, \"A Hard Day's Night\": 1964, \n",
    "       'Help': 1965, 'Let It Be': 1970, 'Abbey Road': 1969, 'Twist and Shout': 1964, 'Please Please Me': 1963}\n",
    "test3= {'The Game': 1980, 'A Night at the Opera': 1975, 'Jazz': 1978, 'Queen II': 1974, \n",
    "        'A Day at the Races': 1976, 'News of the World': 1977, 'Queen': 1973, 'Sheer Heart Attack': 1974}\n",
    "    \n",
    "print(most_prolific(Beatles))\n",
    "print(most_prolific(test2))\n",
    "print(most_prolific(test3))"
   ]
  },
  {
   "cell_type": "code",
   "execution_count": null,
   "metadata": {},
   "outputs": [],
   "source": [
    "def most_prolific(discs): \n",
    "#We will store a dictionary of years \n",
    "#and number of albums per year     \n",
    "    years = {} \n",
    "    maxyears = [] \n",
    "    maxnumber = 0 \n",
    "    for disc in discs: \n",
    "        year = discs[disc]\n",
    "        if year in years: \n",
    "            years[year] += 1 \n",
    "        else: \n",
    "            years[year] = 1 \n",
    "\n",
    "#find the year in which the maximum \n",
    "#number of albums was published \n",
    "#there are more elegant ways of accomplishing this, \n",
    "#but the code below works \n",
    "    for year in years:\n",
    "        if years[year] > maxnumber: \n",
    "            maxyears=[] \n",
    "            maxyears.append(year) \n",
    "            maxnumber = years[year] \n",
    "        elif years[year] == maxnumber and not (year in maxyears): \n",
    "            maxyears.append(year) \n",
    "    if (len(maxyears) == 1): \n",
    "        return maxyears[0] \n",
    "    else: \n",
    "        return maxyears\n"
   ]
  },
  {
   "cell_type": "code",
   "execution_count": 90,
   "metadata": {},
   "outputs": [
    {
     "name": "stdout",
     "output_type": "stream",
     "text": [
      "{'number': 1, 'weight': 1.00794, 'symbol': 'H'}\n",
      "{'number': 1, 'weight': 1.00794, 'symbol': 'H', 'is noble gas': False}\n"
     ]
    }
   ],
   "source": [
    "elements = {'hydrogen': {'number': 1, 'weight': 1.00794, 'symbol': 'H'},\n",
    "            'helium': {'number': 2, 'weight': 4.002602, 'symbol': 'He'}}\n",
    "\n",
    "# todo: Add an 'is_noble_gas' entry to the hydrogen and helium dictionaries\n",
    "# hint: helium is a noble gas, hydrogen isn't\n",
    "print(elements['hydrogen'])\n",
    "elements['hydrogen'].update({'is noble gas':False})\n",
    "print(elements['hydrogen'])"
   ]
  },
  {
   "cell_type": "code",
   "execution_count": 94,
   "metadata": {},
   "outputs": [
    {
     "name": "stdout",
     "output_type": "stream",
     "text": [
      "117\n",
      "1353\n"
     ]
    }
   ],
   "source": [
    "mon = {'January': [54, 63], 'February': [64, 60], 'March': [63, 49],\n",
    "                   'April': [57, 42], 'May': [55, 37], 'June': [34, 32],\n",
    "                   'July': [69, 41, 32], 'August': [40, 61, 40], 'September': [51, 62],\n",
    "                   'October': [34, 58, 45], 'November': [67, 44], 'December': [41, 58]}\n",
    "print(sum(mon['January']))\n",
    "def total_takings(yearly_record):\n",
    "    YTD=0\n",
    "    for month in yearly_record:\n",
    "        YTD+=sum(yearly_record[month])\n",
    "    return YTD\n",
    "\n",
    "print(total_takings(mon))"
   ]
  }
 ],
 "metadata": {
  "kernelspec": {
   "display_name": "Python 3",
   "language": "python",
   "name": "python3"
  },
  "language_info": {
   "codemirror_mode": {
    "name": "ipython",
    "version": 3
   },
   "file_extension": ".py",
   "mimetype": "text/x-python",
   "name": "python",
   "nbconvert_exporter": "python",
   "pygments_lexer": "ipython3",
   "version": "3.6.4"
  }
 },
 "nbformat": 4,
 "nbformat_minor": 2
}
